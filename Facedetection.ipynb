{
 "cells": [
  {
   "cell_type": "code",
   "execution_count": 1,
   "id": "d2c50536-f1f9-4008-bf68-9e5449df1f4a",
   "metadata": {},
   "outputs": [],
   "source": [
    "import cv2\n",
    "import numpy as np\n",
    "import face_recognition as fr"
   ]
  },
  {
   "cell_type": "code",
   "execution_count": 2,
   "id": "5582bd42-58fb-44c9-8329-fa28242ece67",
   "metadata": {},
   "outputs": [],
   "source": [
    "video_capture = cv2.VideoCapture(0)"
   ]
  },
  {
   "cell_type": "code",
   "execution_count": 3,
   "id": "bdce9aa0-9922-453e-8cb3-ff0d5883af2c",
   "metadata": {},
   "outputs": [],
   "source": [
    "image = fr.load_image_file(\"boy.jpg\")"
   ]
  },
  {
   "cell_type": "code",
   "execution_count": 4,
   "id": "c7b13293-deda-492a-b873-ef0ae4a9b9cd",
   "metadata": {},
   "outputs": [],
   "source": [
    "image_face_encoding = fr.face_encodings(image)[0]"
   ]
  },
  {
   "cell_type": "code",
   "execution_count": 5,
   "id": "833f9638-a2f5-4442-a540-29b879ca086e",
   "metadata": {},
   "outputs": [],
   "source": [
    "known_face_encoding = [image_face_encoding]"
   ]
  },
  {
   "cell_type": "code",
   "execution_count": 6,
   "id": "7f3fb335-89dd-419d-aeaa-b6aa9eab2b03",
   "metadata": {},
   "outputs": [],
   "source": [
    "known_face_names = ['Sanjay']"
   ]
  },
  {
   "cell_type": "code",
   "execution_count": null,
   "id": "6f1dc37e-3817-4ed9-9ae2-2c8b124fa695",
   "metadata": {},
   "outputs": [],
   "source": [
    "while True:\n",
    "    # Capture each frame from the webcam\n",
    "    ret, frame = video_capture.read()\n",
    "\n",
    "    # Find face locations in the current frame\n",
    "    face_locations = fr.face_locations(frame)\n",
    "\n",
    "    # If faces are found, try to recognize them\n",
    "    if face_locations:\n",
    "        for (top, right, bottom, left) in face_locations:\n",
    "            # Extract face encoding for the current face\n",
    "            face_encoding = fr.face_encodings(frame, [(top, right, bottom, left)])[0]\n",
    "\n",
    "            # Compare with the known encodings\n",
    "            matches = fr.compare_faces(known_face_encoding, face_encoding)\n",
    "            name = \"Unknown\"\n",
    "\n",
    "            # Check if a match is found\n",
    "            if True in matches:\n",
    "                first_match_index = matches.index(True)\n",
    "                name = known_face_names[first_match_index]\n",
    "\n",
    "            # Draw a rectangle around the face and display the name\n",
    "            cv2.rectangle(frame, (left, top), (right, bottom), (0, 255, 0), 2)\n",
    "            font = cv2.FONT_HERSHEY_DUPLEX\n",
    "            cv2.putText(frame, name, (left + 6, bottom - 6), font, 0.5, (255, 255, 255), 1)\n",
    "\n",
    "    # Display the resulting frame\n",
    "    cv2.imshow('Video', frame)\n",
    "\n",
    "    # Break the loop if 'q' key is pressed\n",
    "    if cv2.waitKey(1) & 0xFF == ord('q'):\n",
    "        break\n",
    "\n",
    "# Release the webcam and close the window\n",
    "video_capture.release()\n",
    "cv2.destroyAllWindows()"
   ]
  },
  {
   "cell_type": "code",
   "execution_count": null,
   "id": "12e72428-110b-4b78-8e66-f3672009473f",
   "metadata": {},
   "outputs": [],
   "source": [
    "while True:\n",
    "    # Capture each frame from the webcam\n",
    "    ret, frame = video_capture.read()\n",
    "\n",
    "    # Find face locations in the current frame\n",
    "    face_locations = fr.face_locations(frame)\n",
    "\n",
    "    # If faces are found, try to recognize them\n",
    "    if face_locations:\n",
    "        for (top, right, bottom, left) in face_locations:\n",
    "            # Extract face encoding for the current face\n",
    "            face_encoding = fr.face_encodings(frame, [(top, right, bottom, left)])[0]\n",
    "\n",
    "            # Compare with the known encodings\n",
    "            matches = fr.compare_faces(known_face_encoding, face_encoding)\n",
    "            name = \"Unknown\"\n",
    "\n",
    "            # Check if a match is found\n",
    "            if True in matches:\n",
    "                first_match_index = matches.index(True)\n",
    "                name = known_face_names[first_match_index]\n",
    "\n",
    "            # Draw a rectangle around the face and display the name\n",
    "            cv2.rectangle(frame, (left, top), (right, bottom), (0, 255, 0), 2)\n",
    "            font = cv2.FONT_HERSHEY_DUPLEX\n",
    "            cv2.putText(frame, name, (left + 6, bottom - 6), font, 0.5, (255, 255, 255), 1)\n",
    "\n",
    "    # Display the resulting frame\n",
    "    cv2.imshow('Video', frame)\n",
    "\n",
    "    # Break the loop if 'q' key is pressed\n",
    "    if cv2.waitKey(1) & 0xFF == ord('q'):\n",
    "        break\n",
    "\n",
    "# Release the webcam and close the window\n",
    "video_capture.release()\n",
    "cv2.destroyAllWindows()"
   ]
  },
  {
   "cell_type": "code",
   "execution_count": null,
   "id": "4641cbbc-c878-4805-8e4e-8eb5c1431939",
   "metadata": {},
   "outputs": [],
   "source": []
  }
 ],
 "metadata": {
  "kernelspec": {
   "display_name": "Python 3 (ipykernel)",
   "language": "python",
   "name": "python3"
  },
  "language_info": {
   "codemirror_mode": {
    "name": "ipython",
    "version": 3
   },
   "file_extension": ".py",
   "mimetype": "text/x-python",
   "name": "python",
   "nbconvert_exporter": "python",
   "pygments_lexer": "ipython3",
   "version": "3.11.2"
  }
 },
 "nbformat": 4,
 "nbformat_minor": 5
}
